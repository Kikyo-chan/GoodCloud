{
 "cells": [
  {
   "cell_type": "code",
   "execution_count": 10,
   "metadata": {
    "collapsed": true
   },
   "outputs": [],
   "source": [
    "from keystoneauth1.identity import v3"
   ]
  },
  {
   "cell_type": "code",
   "execution_count": 63,
   "metadata": {},
   "outputs": [],
   "source": [
    "from keystoneauth1 import session\n",
    "from keystoneclient.v3 import client"
   ]
  },
  {
   "cell_type": "code",
   "execution_count": 64,
   "metadata": {},
   "outputs": [],
   "source": [
    "auth = v3.Password(auth_url=\"http://192.168.1.65:5000/v3\", username=\"admin\",\n",
    "                    password=\"openstack@good308\", project_name=\"admin\",\n",
    "                    user_domain_id=\"default\", project_domain_id=\"default\")"
   ]
  },
  {
   "cell_type": "code",
   "execution_count": 65,
   "metadata": {},
   "outputs": [],
   "source": [
    "sess = session.Session(auth=auth)"
   ]
  },
  {
   "cell_type": "code",
   "execution_count": 66,
   "metadata": {},
   "outputs": [],
   "source": [
    "keystone = client.Client(session=sess)"
   ]
  },
  {
   "cell_type": "code",
   "execution_count": 15,
   "metadata": {
    "collapsed": true
   },
   "outputs": [
    {
     "data": {
      "text/plain": [
       "[<Project description=, domain_id=default, enabled=True, id=1ab91f021975499c971a7e14a1858b49, is_domain=False, links={'self': 'http://192.168.1.65:35357/v3/projects/1ab91f021975499c971a7e14a1858b49'}, name=gujingyun_prj, parent_id=default, tags=[]>,\n <Project description=, domain_id=default, enabled=True, id=3113ffa5abf7461d91f5077f10134b81, is_domain=False, links={'self': 'http://192.168.1.65:35357/v3/projects/3113ffa5abf7461d91f5077f10134b81'}, name=login, parent_id=default, tags=[]>,\n <Project description=default tenant, domain_id=default, enabled=True, id=47c8cf9bef0a435cad6e538e0261a101, is_domain=False, links={'self': 'http://192.168.1.65:35357/v3/projects/47c8cf9bef0a435cad6e538e0261a101'}, name=demo, parent_id=default, tags=[]>,\n <Project description=, domain_id=default, enabled=True, id=6bd8b33b77604de1a24163eff3d9670a, is_domain=False, links={'self': 'http://192.168.1.65:35357/v3/projects/6bd8b33b77604de1a24163eff3d9670a'}, name=a208_gao, parent_id=default, tags=[]>,\n <Project description=, domain_id=default, enabled=True, id=9adcb44bb5154907b7e0df9443f255c0, is_domain=False, links={'self': 'http://192.168.1.65:35357/v3/projects/9adcb44bb5154907b7e0df9443f255c0'}, name=a211_yang, parent_id=default, tags=[]>,\n <Project description=, domain_id=default, enabled=True, id=c78b4a811eb0404a8c81f12fd1a59428, is_domain=False, links={'self': 'http://192.168.1.65:35357/v3/projects/c78b4a811eb0404a8c81f12fd1a59428'}, name=cst_login, parent_id=default, tags=[]>,\n <Project description=, domain_id=default, enabled=True, id=cd4b2d108d044357920534a0a7c6d64b, is_domain=False, links={'self': 'http://192.168.1.65:35357/v3/projects/cd4b2d108d044357920534a0a7c6d64b'}, name=comsol_win, parent_id=default, tags=[]>,\n <Project description=Tenant for the openstack services, domain_id=default, enabled=True, id=cf0de94291a6430fb213365bfc53adb4, is_domain=False, links={'self': 'http://192.168.1.65:35357/v3/projects/cf0de94291a6430fb213365bfc53adb4'}, name=services, parent_id=default, tags=[]>,\n <Project description=, domain_id=default, enabled=True, id=e0d3f57e831b4acfaaf02d2e23c3669f, is_domain=False, links={'self': 'http://192.168.1.65:35357/v3/projects/e0d3f57e831b4acfaaf02d2e23c3669f'}, name=wang_prj, parent_id=default, tags=[]>,\n <Project description=admin tenant, domain_id=default, enabled=True, id=e66a59e3cdb24ad39afb47acb280bb1f, is_domain=False, links={'self': 'http://192.168.1.65:35357/v3/projects/e66a59e3cdb24ad39afb47acb280bb1f'}, name=admin, parent_id=default, tags=[]>]"
      ]
     },
     "execution_count": 15,
     "metadata": {},
     "output_type": "execute_result"
    }
   ],
   "source": [
    "keystone.projects.list()"
   ]
  },
  {
   "cell_type": "code",
   "execution_count": 20,
   "metadata": {},
   "outputs": [],
   "source": [
    "users_list = keystone.users.list()"
   ]
  },
  {
   "cell_type": "code",
   "execution_count": 45,
   "metadata": {
    "collapsed": true
   },
   "outputs": [
    {
     "name": "stdout",
     "output_type": "stream",
     "text": [
      "[<User domain_id=default, email=placement@localhost, enabled=True, id=003b6a60637443e78694e9d2c8dd1a4d, links={'self': 'http://192.168.1.65:35357/v3/users/003b6a60637443e78694e9d2c8dd1a4d'}, name=placement, options={}, password_expires_at=None>, <User default_project_id=3113ffa5abf7461d91f5077f10134b81, domain_id=default, enabled=True, id=08a3b137605e4676a1615cf73a4212da, links={'self': 'http://192.168.1.65:35357/v3/users/08a3b137605e4676a1615cf73a4212da'}, name=xulinjie, options={}, password_expires_at=None>, <User domain_id=default, email=aodh@localhost, enabled=True, id=33b10dc2672f4922bab1b46860ba3a13, links={'self': 'http://192.168.1.65:35357/v3/users/33b10dc2672f4922bab1b46860ba3a13'}, name=aodh, options={}, password_expires_at=None>, <User domain_id=default, enabled=True, id=4398193e3e52499a891b783a39e28b74, links={'self': 'http://192.168.1.65:35357/v3/users/4398193e3e52499a891b783a39e28b74'}, name=demo, options={}, password_expires_at=None>, <User domain_id=default, email=neutron@localhost, enabled=True, id=4fcb800901eb4017a9834608b4d517e4, links={'self': 'http://192.168.1.65:35357/v3/users/4fcb800901eb4017a9834608b4d517e4'}, name=neutron, options={}, password_expires_at=None>, <User domain_id=default, email=root@localhost, enabled=True, id=66944b70cf084eea8eced370c417fd25, links={'self': 'http://192.168.1.65:35357/v3/users/66944b70cf084eea8eced370c417fd25'}, name=admin, options={}, password_expires_at=None>, <User default_project_id=cd4b2d108d044357920534a0a7c6d64b, domain_id=default, email=shenyun@ncu.edu.cn, enabled=True, id=866f58bdb1254628a82f20531edc0657, links={'self': 'http://192.168.1.65:35357/v3/users/866f58bdb1254628a82f20531edc0657'}, name=shenyun, options={}, password_expires_at=None>, <User default_project_id=c78b4a811eb0404a8c81f12fd1a59428, domain_id=default, email=1436694352@qq.com, enabled=True, id=887102252b3846f2b85919565c1066a8, links={'self': 'http://192.168.1.65:35357/v3/users/887102252b3846f2b85919565c1066a8'}, name=cst_login, options={}, password_expires_at=None>, <User domain_id=default, email=ceilometer@localhost, enabled=True, id=8d717dcc8feb4a01bf16533af50b5916, links={'self': 'http://192.168.1.65:35357/v3/users/8d717dcc8feb4a01bf16533af50b5916'}, name=ceilometer, options={}, password_expires_at=None>, <User domain_id=default, email=nova@localhost, enabled=True, id=9b37732d84894c90b4f662df096e6335, links={'self': 'http://192.168.1.65:35357/v3/users/9b37732d84894c90b4f662df096e6335'}, name=nova, options={}, password_expires_at=None>, <User default_project_id=1ab91f021975499c971a7e14a1858b49, description=顾景云, domain_id=default, enabled=True, id=9ea15604ec5b40bfa0b32b262fa762a8, links={'self': 'http://192.168.1.65:35357/v3/users/9ea15604ec5b40bfa0b32b262fa762a8'}, name=gujingyun, options={}, password_expires_at=None>, <User default_project_id=9adcb44bb5154907b7e0df9443f255c0, domain_id=default, email=2252064220@qq.com, enabled=True, id=aee75ee14ec445e0ae3f98d9598e9494, links={'self': 'http://192.168.1.65:35357/v3/users/aee75ee14ec445e0ae3f98d9598e9494'}, name=yang, options={}, password_expires_at=None>, <User default_project_id=3113ffa5abf7461d91f5077f10134b81, domain_id=default, enabled=True, id=b249b03c8f1245bfb374632f444ae624, links={'self': 'http://192.168.1.65:35357/v3/users/b249b03c8f1245bfb374632f444ae624'}, name=matlab1, options={}, password_expires_at=None>, <User default_project_id=3113ffa5abf7461d91f5077f10134b81, domain_id=default, enabled=True, id=b5b0e2bea6ec449d8d5ab448870e6b21, links={'self': 'http://192.168.1.65:35357/v3/users/b5b0e2bea6ec449d8d5ab448870e6b21'}, name=login001, options={}, password_expires_at=None>, <User default_project_id=6bd8b33b77604de1a24163eff3d9670a, domain_id=default, email=1324531762@qq.com, enabled=True, id=e5bcd087e8584b81bca073de5485c06b, links={'self': 'http://192.168.1.65:35357/v3/users/e5bcd087e8584b81bca073de5485c06b'}, name=gao, options={}, password_expires_at=None>, <User domain_id=default, email=glance@localhost, enabled=True, id=f43b00e0b5a5415a9d2b5a5f42288716, links={'self': 'http://192.168.1.65:35357/v3/users/f43b00e0b5a5415a9d2b5a5f42288716'}, name=glance, options={}, password_expires_at=None>, <User domain_id=default, email=gnocchi@localhost, enabled=True, id=fac30ddd201242f6b67a02210f9c4627, links={'self': 'http://192.168.1.65:35357/v3/users/fac30ddd201242f6b67a02210f9c4627'}, name=gnocchi, options={}, password_expires_at=None>, <User default_project_id=e0d3f57e831b4acfaaf02d2e23c3669f, domain_id=default, enabled=True, id=fb0b2f124d644c9191a6333b384626be, links={'self': 'http://192.168.1.65:35357/v3/users/fb0b2f124d644c9191a6333b384626be'}, name=wangyuhao, options={}, password_expires_at=None>]\n"
     ]
    }
   ],
   "source": [
    "print(users_list)"
   ]
  },
  {
   "cell_type": "code",
   "execution_count": 22,
   "metadata": {},
   "outputs": [],
   "source": [
    "user = keystone.users.get(\"fb0b2f124d644c9191a6333b384626be\")"
   ]
  },
  {
   "cell_type": "code",
   "execution_count": 46,
   "metadata": {
    "collapsed": true
   },
   "outputs": [
    {
     "name": "stdout",
     "output_type": "stream",
     "text": [
      "<User default_project_id=e0d3f57e831b4acfaaf02d2e23c3669f, domain_id=default, enabled=True, id=fb0b2f124d644c9191a6333b384626be, links={'self': 'http://192.168.1.65:35357/v3/users/fb0b2f124d644c9191a6333b384626be'}, name=wangyuhao, options={}, password_expires_at=None>\n"
     ]
    }
   ],
   "source": [
    "print(user)"
   ]
  },
  {
   "cell_type": "code",
   "execution_count": 44,
   "metadata": {
    "collapsed": true
   },
   "outputs": [
    {
     "name": "stdout",
     "output_type": "stream",
     "text": [
      "e0d3f57e831b4acfaaf02d2e23c3669f\ndefault\nTrue\nfb0b2f124d644c9191a6333b384626be\nhttp://192.168.1.65:35357/v3/users/fb0b2f124d644c9191a6333b384626be\nwangyuhao\n{}\nNone\n\n"
     ]
    }
   ],
   "source": [
    "print(user.default_project_id)\n",
    "print(user.domain_id)\n",
    "print(user.enabled)\n",
    "print(user.id)\n",
    "print(user.links['self'])\n",
    "print(user.name)\n",
    "print(user.options)\n",
    "print(user.password_expires_at)\n",
    "print()"
   ]
  },
  {
   "cell_type": "code",
   "execution_count": 39,
   "metadata": {},
   "outputs": [],
   "source": [
    "user_manager = keystone.users"
   ]
  },
  {
   "cell_type": "code",
   "execution_count": 75,
   "metadata": {},
   "outputs": [],
   "source": [
    "auth = v3.Password(auth_url=\"http://192.168.1.65:5000/v3\", username=\"张\",\n",
    "                    password=\"123456\", \n",
    "                    user_domain_id=\"default\", project_domain_id=\"default\")"
   ]
  },
  {
   "cell_type": "code",
   "execution_count": 76,
   "metadata": {},
   "outputs": [],
   "source": [
    "sess = session.Session(auth=auth)"
   ]
  },
  {
   "cell_type": "code",
   "execution_count": 77,
   "metadata": {},
   "outputs": [],
   "source": [
    "keystone = client.Client(session=sess)"
   ]
  },
  {
   "cell_type": "code",
   "execution_count": 74,
   "metadata": {
    "collapsed": false
   },
   "outputs": [
    {
     "name": "stdout",
     "output_type": "stream",
     "text": [
      "\n"
     ]
    }
   ],
   "source": [
    "print(keystone.domain)"
   ]
  },
  {
   "cell_type": "code",
   "execution_count": 57,
   "metadata": {},
   "outputs": [
    {
     "name": "stdout",
     "output_type": "stream",
     "text": [
      "[<Project description=, domain_id=default, enabled=True, id=1ab91f021975499c971a7e14a1858b49, is_domain=False, links={'self': 'http://192.168.1.65:35357/v3/projects/1ab91f021975499c971a7e14a1858b49'}, name=gujingyun_prj, parent_id=default, tags=[]>, <Project description=, domain_id=default, enabled=True, id=3113ffa5abf7461d91f5077f10134b81, is_domain=False, links={'self': 'http://192.168.1.65:35357/v3/projects/3113ffa5abf7461d91f5077f10134b81'}, name=login, parent_id=default, tags=[]>, <Project description=default tenant, domain_id=default, enabled=True, id=47c8cf9bef0a435cad6e538e0261a101, is_domain=False, links={'self': 'http://192.168.1.65:35357/v3/projects/47c8cf9bef0a435cad6e538e0261a101'}, name=demo, parent_id=default, tags=[]>, <Project description=, domain_id=default, enabled=True, id=6bd8b33b77604de1a24163eff3d9670a, is_domain=False, links={'self': 'http://192.168.1.65:35357/v3/projects/6bd8b33b77604de1a24163eff3d9670a'}, name=a208_gao, parent_id=default, tags=[]>, <Project description=, domain_id=default, enabled=True, id=9adcb44bb5154907b7e0df9443f255c0, is_domain=False, links={'self': 'http://192.168.1.65:35357/v3/projects/9adcb44bb5154907b7e0df9443f255c0'}, name=a211_yang, parent_id=default, tags=[]>, <Project description=, domain_id=default, enabled=True, id=c78b4a811eb0404a8c81f12fd1a59428, is_domain=False, links={'self': 'http://192.168.1.65:35357/v3/projects/c78b4a811eb0404a8c81f12fd1a59428'}, name=cst_login, parent_id=default, tags=[]>, <Project description=, domain_id=default, enabled=True, id=cd4b2d108d044357920534a0a7c6d64b, is_domain=False, links={'self': 'http://192.168.1.65:35357/v3/projects/cd4b2d108d044357920534a0a7c6d64b'}, name=comsol_win, parent_id=default, tags=[]>, <Project description=Tenant for the openstack services, domain_id=default, enabled=True, id=cf0de94291a6430fb213365bfc53adb4, is_domain=False, links={'self': 'http://192.168.1.65:35357/v3/projects/cf0de94291a6430fb213365bfc53adb4'}, name=services, parent_id=default, tags=[]>, <Project description=, domain_id=default, enabled=True, id=e0d3f57e831b4acfaaf02d2e23c3669f, is_domain=False, links={'self': 'http://192.168.1.65:35357/v3/projects/e0d3f57e831b4acfaaf02d2e23c3669f'}, name=wang_prj, parent_id=default, tags=[]>, <Project description=admin tenant, domain_id=default, enabled=True, id=e66a59e3cdb24ad39afb47acb280bb1f, is_domain=False, links={'self': 'http://192.168.1.65:35357/v3/projects/e66a59e3cdb24ad39afb47acb280bb1f'}, name=admin, parent_id=default, tags=[]>]\n"
     ]
    }
   ],
   "source": [
    "print(keystone.projects.list())"
   ]
  },
  {
   "cell_type": "code",
   "execution_count": 67,
   "metadata": {},
   "outputs": [
    {
     "data": {
      "text/plain": [
       "<Project description=测试, domain_id=default, enabled=True, id=501817beaa6e4f17a1a80c0fb5dc02a3, is_domain=False, links={'self': 'http://192.168.1.65:35357/v3/projects/501817beaa6e4f17a1a80c0fb5dc02a3'}, name=test1, parent_id=default, tags=[]>"
      ]
     },
     "execution_count": 67,
     "metadata": {},
     "output_type": "execute_result"
    }
   ],
   "source": [
    "keystone.projects.create(\"test1\", \"default\", \"测试\" , True)"
   ]
  },
  {
   "cell_type": "code",
   "execution_count": 69,
   "metadata": {},
   "outputs": [],
   "source": [
    "prj = keystone.projects.get(\"501817beaa6e4f17a1a80c0fb5dc02a3\")"
   ]
  },
  {
   "cell_type": "code",
   "execution_count": 70,
   "metadata": {
    "collapsed": false
   },
   "outputs": [
    {
     "data": {
      "text/plain": [
       "<User default_project_id=501817beaa6e4f17a1a80c0fb5dc02a3, domain_id=default, email=张三@qq.com, enabled=True, id=668e0befcd64482798fa2e5d216855d6, links={'self': 'http://192.168.1.65:35357/v3/users/668e0befcd64482798fa2e5d216855d6'}, name=张三, options={}, password_expires_at=None>"
      ]
     },
     "execution_count": 70,
     "metadata": {},
     "output_type": "execute_result"
    }
   ],
   "source": [
    "keystone.users.create(\"张三\",None,prj,\"123456\",\"张三@qq.com\",None,True,None)"
   ]
  },
  {
   "cell_type": "code",
   "execution_count": null,
   "metadata": {},
   "outputs": [],
   "source": []
  }
 ],
 "metadata": {
  "kernelspec": {
   "display_name": "Python 2",
   "language": "python",
   "name": "python2"
  },
  "language_info": {
   "codemirror_mode": {
    "name": "ipython",
    "version": 2
   },
   "file_extension": ".py",
   "mimetype": "text/x-python",
   "name": "python",
   "nbconvert_exporter": "python",
   "pygments_lexer": "ipython2",
   "version": "2.7.6"
  }
 },
 "nbformat": 4,
 "nbformat_minor": 0
}
