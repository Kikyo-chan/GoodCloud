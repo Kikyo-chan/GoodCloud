{
 "cells": [
  {
   "cell_type": "code",
   "execution_count": 1,
   "metadata": {
    "collapsed": true
   },
   "outputs": [],
   "source": [
    "from keystoneauth1.identity import v3"
   ]
  },
  {
   "cell_type": "code",
   "execution_count": 2,
   "metadata": {},
   "outputs": [],
   "source": [
    "from keystoneauth1 import session\n",
    "from keystoneclient.v3 import client"
   ]
  },
  {
   "cell_type": "code",
   "execution_count": 3,
   "metadata": {},
   "outputs": [],
   "source": [
    "auth = v3.Password(auth_url=\"http://192.168.1.106:5000/v3\", username=\"admin\",\n",
    "                    password=\"openstack@good308\", project_name=\"admin\",\n",
    "                    user_domain_id=\"default\", project_domain_id=\"default\")"
   ]
  },
  {
   "cell_type": "code",
   "execution_count": 4,
   "metadata": {},
   "outputs": [],
   "source": [
    "sess = session.Session(auth=auth)"
   ]
  },
  {
   "cell_type": "code",
   "execution_count": 5,
   "metadata": {},
   "outputs": [],
   "source": [
    "keystone = client.Client(session=sess)"
   ]
  },
  {
   "cell_type": "code",
   "execution_count": 8,
   "metadata": {
    "collapsed": true
   },
   "outputs": [
    {
     "data": {
      "text/plain": [
       "[<Project description=default tenant, domain_id=default, enabled=True, id=1566b42b08784462a4d99eaa0691d62f, is_domain=False, links={'self': 'http://192.168.1.106:35357/v3/projects/1566b42b08784462a4d99eaa0691d62f'}, name=demo, parent_id=default, tags=[]>,\n <Project description=Tenant for the openstack services, domain_id=default, enabled=True, id=1ed64557514c41b794126b55b1b3be98, is_domain=False, links={'self': 'http://192.168.1.106:35357/v3/projects/1ed64557514c41b794126b55b1b3be98'}, name=services, parent_id=default, tags=[]>,\n <Project description=, domain_id=default, enabled=True, id=388f92f6a5174a79823984365febe80b, is_domain=False, links={'self': 'http://192.168.1.106:35357/v3/projects/388f92f6a5174a79823984365febe80b'}, name=shenyun_40G, parent_id=default, tags=[]>,\n <Project description=admin tenant, domain_id=default, enabled=True, id=718eabfdf550482689533526e6070b7d, is_domain=False, links={'self': 'http://192.168.1.106:35357/v3/projects/718eabfdf550482689533526e6070b7d'}, name=admin, parent_id=default, tags=[]>]"
      ]
     },
     "execution_count": 8,
     "metadata": {},
     "output_type": "execute_result"
    }
   ],
   "source": [
    "keystone.projects.list()"
   ]
  },
  {
   "cell_type": "code",
   "execution_count": 7,
   "metadata": {},
   "outputs": [],
   "source": [
    ""
   ]
  },
  {
   "cell_type": "code",
   "execution_count": null,
   "metadata": {},
   "outputs": [],
   "source": []
  }
 ],
 "metadata": {
  "kernelspec": {
   "display_name": "Python 2",
   "language": "python",
   "name": "python2"
  },
  "language_info": {
   "codemirror_mode": {
    "name": "ipython",
    "version": 2
   },
   "file_extension": ".py",
   "mimetype": "text/x-python",
   "name": "python",
   "nbconvert_exporter": "python",
   "pygments_lexer": "ipython2",
   "version": "2.7.6"
  }
 },
 "nbformat": 4,
 "nbformat_minor": 0
}
